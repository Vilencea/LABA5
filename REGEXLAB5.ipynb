{
 "cells": [
  {
   "cell_type": "code",
   "execution_count": 6,
   "id": "a8267fbf-aa59-400a-937e-99e340f56053",
   "metadata": {},
   "outputs": [
    {
     "name": "stdout",
     "output_type": "stream",
     "text": [
      "['aab']\n"
     ]
    }
   ],
   "source": [
    "import re\n",
    "txt=\"bbbaab\"\n",
    "x=re.findall(\"a.*b\",txt)\n",
    "print(x)"
   ]
  },
  {
   "cell_type": "code",
   "execution_count": 9,
   "id": "399142e4-dce8-4cbf-bb19-e31d75eec516",
   "metadata": {},
   "outputs": [
    {
     "name": "stdout",
     "output_type": "stream",
     "text": [
      "['aaabaabbb']\n"
     ]
    }
   ],
   "source": [
    "import re\n",
    "txt=\"aaabaabbb\"\n",
    "x=re.findall(\"a.*bb+|bbb+\",txt)\n",
    "print(x)"
   ]
  },
  {
   "cell_type": "code",
   "execution_count": 13,
   "id": "ccc8b0d8-6ecc-4c2d-a1d1-2f1a7f111972",
   "metadata": {},
   "outputs": [
    {
     "name": "stdout",
     "output_type": "stream",
     "text": [
      "['a_hudsasd']\n"
     ]
    }
   ],
   "source": [
    "import re\n",
    "txt=\"ahdakshdua_hudsasd_adsa\"\n",
    "x=re.findall(\"[a-z]_+[a-z]+\",txt)\n",
    "print(x)"
   ]
  },
  {
   "cell_type": "code",
   "execution_count": 14,
   "id": "6dc0f4ec-85c3-4674-a276-226b01689e96",
   "metadata": {},
   "outputs": [
    {
     "name": "stdout",
     "output_type": "stream",
     "text": [
      "['Dasdada']\n"
     ]
    }
   ],
   "source": [
    "import re\n",
    "txt=\"sdfdsDasdada\"\n",
    "x=re.findall(\"[A-Z][a-z]+\",txt)\n",
    "print(x)"
   ]
  },
  {
   "cell_type": "code",
   "execution_count": 16,
   "id": "89edbb6b-0848-4382-ac12-bc2bb127e4f3",
   "metadata": {},
   "outputs": [
    {
     "name": "stdout",
     "output_type": "stream",
     "text": [
      "['aaab']\n"
     ]
    }
   ],
   "source": [
    "import re\n",
    "txt=\"ahfhsfaaabdjsidb\"\n",
    "x=re.findall(\"a+.b\",txt)\n",
    "print(x)"
   ]
  },
  {
   "cell_type": "code",
   "execution_count": 17,
   "id": "7050de7d-fdb5-42a4-892a-3467478dac80",
   "metadata": {},
   "outputs": [
    {
     "name": "stdout",
     "output_type": "stream",
     "text": [
      "father:my:free::joke\n"
     ]
    }
   ],
   "source": [
    "import re\n",
    "txt=\"father,my free. joke\"\n",
    "x=re.sub(\"[,. ]\",':',txt)\n",
    "print(x)"
   ]
  },
  {
   "cell_type": "code",
   "execution_count": 26,
   "id": "16fbcee0-3ee7-4ddb-b2cd-84798824b9ae",
   "metadata": {},
   "outputs": [
    {
     "name": "stdout",
     "output_type": "stream",
     "text": [
      "asasdadasdasgpo\n"
     ]
    }
   ],
   "source": [
    "import re\n",
    "txt=\"as___asdad_asdasg_po\"\n",
    "x=re.sub(\"_\",'',txt)\n",
    "print(x)"
   ]
  },
  {
   "cell_type": "code",
   "execution_count": 21,
   "id": "6ba876f3-0459-4e03-94f2-3c3ce005dd11",
   "metadata": {},
   "outputs": [
    {
     "name": "stdout",
     "output_type": "stream",
     "text": [
      "['A', 'D', 'I', 'J', 'I', 'S', 'J']\n"
     ]
    }
   ],
   "source": [
    "import re\n",
    "txt=\"ADIJISJ\"\n",
    "x=re.findall(\"[A-Z][^A-Z]*\",txt)\n",
    "print(x)"
   ]
  },
  {
   "cell_type": "code",
   "execution_count": 22,
   "id": "8c0f857f-cc37-4e1f-a965-42d700340bde",
   "metadata": {},
   "outputs": [
    {
     "name": "stdout",
     "output_type": "stream",
     "text": [
      "['Dsada', 'D', 'E', 'Rfafsf']\n"
     ]
    }
   ],
   "source": [
    "import re\n",
    "txt=\"DsadaDERfafsf\"\n",
    "x=re.findall(\"[A-Z][a-z]*\",txt)\n",
    "print(x)"
   ]
  },
  {
   "cell_type": "code",
   "execution_count": 39,
   "id": "a3fe21b7-ea0b-435a-908b-fc9c68dfbc1c",
   "metadata": {},
   "outputs": [
    {
     "name": "stdout",
     "output_type": "stream",
     "text": [
      "_as_ou_now_eis_a\n"
     ]
    }
   ],
   "source": [
    "import re\n",
    "txt=\"AasYouKnowHeisGa\"\n",
    "x=re.sub(\"[A-Z]\",'_',txt)\n",
    "print(x)"
   ]
  },
  {
   "cell_type": "code",
   "execution_count": null,
   "id": "4b8243b2-478a-45ae-b541-7fe3870209bf",
   "metadata": {},
   "outputs": [],
   "source": [
    "_"
   ]
  }
 ],
 "metadata": {
  "kernelspec": {
   "display_name": "Python 3 (ipykernel)",
   "language": "python",
   "name": "python3"
  },
  "language_info": {
   "codemirror_mode": {
    "name": "ipython",
    "version": 3
   },
   "file_extension": ".py",
   "mimetype": "text/x-python",
   "name": "python",
   "nbconvert_exporter": "python",
   "pygments_lexer": "ipython3",
   "version": "3.12.7"
  }
 },
 "nbformat": 4,
 "nbformat_minor": 5
}
